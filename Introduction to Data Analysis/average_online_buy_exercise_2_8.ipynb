{
 "cells": [
  {
   "cell_type": "markdown",
   "id": "23272a26",
   "metadata": {},
   "source": [
    "## 2.8 Coding Exercises"
   ]
  },
  {
   "cell_type": "markdown",
   "id": "427586ee",
   "metadata": {},
   "source": [
    "### Get the Average online buys in the past 5 weeks."
   ]
  },
  {
   "cell_type": "code",
   "execution_count": 5,
   "id": "36cce1ca",
   "metadata": {},
   "outputs": [],
   "source": [
    "import numpy as np #import library for statistics"
   ]
  },
  {
   "cell_type": "code",
   "execution_count": 6,
   "id": "622c3fbf",
   "metadata": {
    "scrolled": true
   },
   "outputs": [
    {
     "name": "stdout",
     "output_type": "stream",
     "text": [
      "Your average buys for the past 5 weeks is: 20.6\n"
     ]
    }
   ],
   "source": [
    "#define function\n",
    "\n",
    "def ave_buy(ave):\n",
    "    print(\"Your average buys for the past 5 weeks is:\", ave)\n",
    "\n",
    "#add data list\n",
    "items = [19, 27, 17, 24, 16]\n",
    "\n",
    "mean = np.mean(items) #-- get mean(average) from numpy library\n",
    "\n",
    "ave = str(mean) #convert to string to be readable\n",
    "\n",
    "ave_buy(ave)"
   ]
  },
  {
   "cell_type": "markdown",
   "id": "d69bfa1a",
   "metadata": {},
   "source": [
    "### Correct Answer"
   ]
  },
  {
   "cell_type": "code",
   "execution_count": 12,
   "id": "7aabaed3",
   "metadata": {},
   "outputs": [
    {
     "name": "stdout",
     "output_type": "stream",
     "text": [
      "Average purchased items:\n",
      "20.6\n"
     ]
    }
   ],
   "source": [
    "import array as arr\n",
    "\n",
    "def display_ave():\n",
    "    print(\"Average purchased items:\")\n",
    "\n",
    "def get_ave():\n",
    "    n = len (items)\n",
    "    get_sum = sum(items)\n",
    "    mean = get_sum / n\n",
    "    n =str(mean)\n",
    "    print(n)\n",
    "    \n",
    "online_pur = [19,27,17,24,16] \n",
    "\n",
    "sample_data = arr.array('i', online_pur)\n",
    "items = sample_data[0:5] # 5 weeks\n",
    "sample_data_list = items.tolist()\n",
    "\n",
    "display_ave()\n",
    "get_ave()"
   ]
  },
  {
   "cell_type": "code",
   "execution_count": null,
   "id": "add9c80e",
   "metadata": {},
   "outputs": [],
   "source": []
  }
 ],
 "metadata": {
  "kernelspec": {
   "display_name": "Python 3 (ipykernel)",
   "language": "python",
   "name": "python3"
  },
  "language_info": {
   "codemirror_mode": {
    "name": "ipython",
    "version": 3
   },
   "file_extension": ".py",
   "mimetype": "text/x-python",
   "name": "python",
   "nbconvert_exporter": "python",
   "pygments_lexer": "ipython3",
   "version": "3.9.12"
  }
 },
 "nbformat": 4,
 "nbformat_minor": 5
}
