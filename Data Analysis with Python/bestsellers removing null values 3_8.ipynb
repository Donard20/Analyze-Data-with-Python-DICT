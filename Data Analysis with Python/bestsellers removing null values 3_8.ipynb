{
 "cells": [
  {
   "cell_type": "markdown",
   "id": "e668d02c",
   "metadata": {},
   "source": [
    "## Module 3 Coding Exercises"
   ]
  },
  {
   "cell_type": "code",
   "execution_count": 7,
   "id": "44ab5d66",
   "metadata": {},
   "outputs": [],
   "source": [
    "# 2 start your code by importing pandas\n",
    "import pandas as pd"
   ]
  },
  {
   "cell_type": "code",
   "execution_count": 8,
   "id": "c1f0ebd1",
   "metadata": {},
   "outputs": [
    {
     "name": "stdout",
     "output_type": "stream",
     "text": [
      "Author\n",
      "0         E.L. James\n",
      "1    Suzanne Collins\n",
      "2        J.K Rowling\n",
      "3          Dan Brown\n",
      "dtype: object\n",
      "\n",
      "\n",
      "Reviews\n",
      "0    410\n",
      "1    211\n",
      "2    314\n",
      "3    178\n",
      "dtype: int64\n"
     ]
    }
   ],
   "source": [
    "# 3 create 2 series from list\n",
    "author = pd.Series(['E.L. James', 'Suzanne Collins', 'J.K Rowling', 'Dan Brown'])\n",
    "reviews = pd.Series([410, 211, 314, 178])\n",
    "\n",
    "# 4 display both series using print function\n",
    "print('Author')\n",
    "print(author)\n",
    "print('\\n')\n",
    "print('Reviews')\n",
    "print(reviews)\n"
   ]
  },
  {
   "cell_type": "code",
   "execution_count": 9,
   "id": "bc9c9d15",
   "metadata": {},
   "outputs": [
    {
     "data": {
      "text/html": [
       "<div>\n",
       "<style scoped>\n",
       "    .dataframe tbody tr th:only-of-type {\n",
       "        vertical-align: middle;\n",
       "    }\n",
       "\n",
       "    .dataframe tbody tr th {\n",
       "        vertical-align: top;\n",
       "    }\n",
       "\n",
       "    .dataframe thead th {\n",
       "        text-align: right;\n",
       "    }\n",
       "</style>\n",
       "<table border=\"1\" class=\"dataframe\">\n",
       "  <thead>\n",
       "    <tr style=\"text-align: right;\">\n",
       "      <th></th>\n",
       "      <th>Name</th>\n",
       "      <th>Author</th>\n",
       "      <th>User Rating</th>\n",
       "      <th>Reviews</th>\n",
       "      <th>Price</th>\n",
       "      <th>Year</th>\n",
       "      <th>Genre</th>\n",
       "      <th>Type</th>\n",
       "    </tr>\n",
       "  </thead>\n",
       "  <tbody>\n",
       "    <tr>\n",
       "      <th>0</th>\n",
       "      <td>10-Day Green Smoothie Cleanse</td>\n",
       "      <td>JJ Smith</td>\n",
       "      <td>4.7</td>\n",
       "      <td>17350.0</td>\n",
       "      <td>8.0</td>\n",
       "      <td>2016.0</td>\n",
       "      <td>Non Fiction</td>\n",
       "      <td>Non Fiction</td>\n",
       "    </tr>\n",
       "    <tr>\n",
       "      <th>1</th>\n",
       "      <td>NaN</td>\n",
       "      <td>NaN</td>\n",
       "      <td>NaN</td>\n",
       "      <td>NaN</td>\n",
       "      <td>NaN</td>\n",
       "      <td>NaN</td>\n",
       "      <td>NaN</td>\n",
       "      <td>NaN</td>\n",
       "    </tr>\n",
       "    <tr>\n",
       "      <th>2</th>\n",
       "      <td>11/22/63: A Novel</td>\n",
       "      <td>Stephen King</td>\n",
       "      <td>4.6</td>\n",
       "      <td>2052.0</td>\n",
       "      <td>22.0</td>\n",
       "      <td>2011.0</td>\n",
       "      <td>Fiction</td>\n",
       "      <td>Fiction</td>\n",
       "    </tr>\n",
       "    <tr>\n",
       "      <th>3</th>\n",
       "      <td>12 Rules for Life: An Antidote to Chaos</td>\n",
       "      <td>Jordan B. Peterson</td>\n",
       "      <td>4.7</td>\n",
       "      <td>18979.0</td>\n",
       "      <td>15.0</td>\n",
       "      <td>2018.0</td>\n",
       "      <td>Non Fiction</td>\n",
       "      <td>Non Fiction</td>\n",
       "    </tr>\n",
       "    <tr>\n",
       "      <th>4</th>\n",
       "      <td>1984 (Signet Classics)</td>\n",
       "      <td>George Orwell</td>\n",
       "      <td>4.7</td>\n",
       "      <td>21424.0</td>\n",
       "      <td>6.0</td>\n",
       "      <td>2017.0</td>\n",
       "      <td>Fiction</td>\n",
       "      <td>Fiction</td>\n",
       "    </tr>\n",
       "    <tr>\n",
       "      <th>...</th>\n",
       "      <td>...</td>\n",
       "      <td>...</td>\n",
       "      <td>...</td>\n",
       "      <td>...</td>\n",
       "      <td>...</td>\n",
       "      <td>...</td>\n",
       "      <td>...</td>\n",
       "      <td>...</td>\n",
       "    </tr>\n",
       "    <tr>\n",
       "      <th>370</th>\n",
       "      <td>Winter of the World: Book Two of the Century T...</td>\n",
       "      <td>Ken Follett</td>\n",
       "      <td>4.5</td>\n",
       "      <td>10760.0</td>\n",
       "      <td>15.0</td>\n",
       "      <td>2012.0</td>\n",
       "      <td>Fiction</td>\n",
       "      <td>Fiction</td>\n",
       "    </tr>\n",
       "    <tr>\n",
       "      <th>371</th>\n",
       "      <td>Women Food and God: An Unexpected Path to Almo...</td>\n",
       "      <td>Geneen Roth</td>\n",
       "      <td>4.2</td>\n",
       "      <td>1302.0</td>\n",
       "      <td>11.0</td>\n",
       "      <td>2010.0</td>\n",
       "      <td>Non Fiction</td>\n",
       "      <td>Non Fiction</td>\n",
       "    </tr>\n",
       "    <tr>\n",
       "      <th>372</th>\n",
       "      <td>Wonder</td>\n",
       "      <td>R. J. Palacio</td>\n",
       "      <td>4.8</td>\n",
       "      <td>21625.0</td>\n",
       "      <td>9.0</td>\n",
       "      <td>2017.0</td>\n",
       "      <td>Fiction</td>\n",
       "      <td>Fiction</td>\n",
       "    </tr>\n",
       "    <tr>\n",
       "      <th>373</th>\n",
       "      <td>Wrecking Ball (Diary of a Wimpy Kid Book 14)</td>\n",
       "      <td>Jeff Kinney</td>\n",
       "      <td>4.9</td>\n",
       "      <td>9413.0</td>\n",
       "      <td>8.0</td>\n",
       "      <td>2019.0</td>\n",
       "      <td>Fiction</td>\n",
       "      <td>Fiction</td>\n",
       "    </tr>\n",
       "    <tr>\n",
       "      <th>374</th>\n",
       "      <td>You Are a Badass: How to Stop Doubting Your Gr...</td>\n",
       "      <td>Jen Sincero</td>\n",
       "      <td>4.7</td>\n",
       "      <td>14331.0</td>\n",
       "      <td>8.0</td>\n",
       "      <td>2019.0</td>\n",
       "      <td>Non Fiction</td>\n",
       "      <td>Non Fiction</td>\n",
       "    </tr>\n",
       "  </tbody>\n",
       "</table>\n",
       "<p>375 rows × 8 columns</p>\n",
       "</div>"
      ],
      "text/plain": [
       "                                                  Name              Author  \\\n",
       "0                        10-Day Green Smoothie Cleanse            JJ Smith   \n",
       "1                                                  NaN                 NaN   \n",
       "2                                    11/22/63: A Novel        Stephen King   \n",
       "3              12 Rules for Life: An Antidote to Chaos  Jordan B. Peterson   \n",
       "4                               1984 (Signet Classics)       George Orwell   \n",
       "..                                                 ...                 ...   \n",
       "370  Winter of the World: Book Two of the Century T...         Ken Follett   \n",
       "371  Women Food and God: An Unexpected Path to Almo...         Geneen Roth   \n",
       "372                                             Wonder       R. J. Palacio   \n",
       "373       Wrecking Ball (Diary of a Wimpy Kid Book 14)         Jeff Kinney   \n",
       "374  You Are a Badass: How to Stop Doubting Your Gr...         Jen Sincero   \n",
       "\n",
       "     User Rating  Reviews  Price    Year        Genre         Type  \n",
       "0            4.7  17350.0    8.0  2016.0  Non Fiction  Non Fiction  \n",
       "1            NaN      NaN    NaN     NaN          NaN          NaN  \n",
       "2            4.6   2052.0   22.0  2011.0      Fiction      Fiction  \n",
       "3            4.7  18979.0   15.0  2018.0  Non Fiction  Non Fiction  \n",
       "4            4.7  21424.0    6.0  2017.0      Fiction      Fiction  \n",
       "..           ...      ...    ...     ...          ...          ...  \n",
       "370          4.5  10760.0   15.0  2012.0      Fiction      Fiction  \n",
       "371          4.2   1302.0   11.0  2010.0  Non Fiction  Non Fiction  \n",
       "372          4.8  21625.0    9.0  2017.0      Fiction      Fiction  \n",
       "373          4.9   9413.0    8.0  2019.0      Fiction      Fiction  \n",
       "374          4.7  14331.0    8.0  2019.0  Non Fiction  Non Fiction  \n",
       "\n",
       "[375 rows x 8 columns]"
      ]
     },
     "execution_count": 9,
     "metadata": {},
     "output_type": "execute_result"
    }
   ],
   "source": [
    "# 6 create dataframe from the csv file\n",
    "df = pd.read_csv('bestsellers.csv')\n",
    "\n",
    "df"
   ]
  },
  {
   "cell_type": "code",
   "execution_count": 10,
   "id": "7fa6b9f5",
   "metadata": {},
   "outputs": [
    {
     "data": {
      "text/html": [
       "<div>\n",
       "<style scoped>\n",
       "    .dataframe tbody tr th:only-of-type {\n",
       "        vertical-align: middle;\n",
       "    }\n",
       "\n",
       "    .dataframe tbody tr th {\n",
       "        vertical-align: top;\n",
       "    }\n",
       "\n",
       "    .dataframe thead th {\n",
       "        text-align: right;\n",
       "    }\n",
       "</style>\n",
       "<table border=\"1\" class=\"dataframe\">\n",
       "  <thead>\n",
       "    <tr style=\"text-align: right;\">\n",
       "      <th></th>\n",
       "      <th>Name</th>\n",
       "      <th>Author</th>\n",
       "      <th>User Rating</th>\n",
       "      <th>Reviews</th>\n",
       "      <th>Price</th>\n",
       "      <th>Year</th>\n",
       "      <th>Genre</th>\n",
       "      <th>Type</th>\n",
       "    </tr>\n",
       "  </thead>\n",
       "  <tbody>\n",
       "    <tr>\n",
       "      <th>0</th>\n",
       "      <td>10-Day Green Smoothie Cleanse</td>\n",
       "      <td>JJ Smith</td>\n",
       "      <td>4.7</td>\n",
       "      <td>17350.0</td>\n",
       "      <td>8.0</td>\n",
       "      <td>2016.0</td>\n",
       "      <td>Non Fiction</td>\n",
       "      <td>Non Fiction</td>\n",
       "    </tr>\n",
       "    <tr>\n",
       "      <th>1</th>\n",
       "      <td>NaN</td>\n",
       "      <td>NaN</td>\n",
       "      <td>NaN</td>\n",
       "      <td>NaN</td>\n",
       "      <td>NaN</td>\n",
       "      <td>NaN</td>\n",
       "      <td>NaN</td>\n",
       "      <td>NaN</td>\n",
       "    </tr>\n",
       "    <tr>\n",
       "      <th>2</th>\n",
       "      <td>11/22/63: A Novel</td>\n",
       "      <td>Stephen King</td>\n",
       "      <td>4.6</td>\n",
       "      <td>2052.0</td>\n",
       "      <td>22.0</td>\n",
       "      <td>2011.0</td>\n",
       "      <td>Fiction</td>\n",
       "      <td>Fiction</td>\n",
       "    </tr>\n",
       "    <tr>\n",
       "      <th>3</th>\n",
       "      <td>12 Rules for Life: An Antidote to Chaos</td>\n",
       "      <td>Jordan B. Peterson</td>\n",
       "      <td>4.7</td>\n",
       "      <td>18979.0</td>\n",
       "      <td>15.0</td>\n",
       "      <td>2018.0</td>\n",
       "      <td>Non Fiction</td>\n",
       "      <td>Non Fiction</td>\n",
       "    </tr>\n",
       "    <tr>\n",
       "      <th>4</th>\n",
       "      <td>1984 (Signet Classics)</td>\n",
       "      <td>George Orwell</td>\n",
       "      <td>4.7</td>\n",
       "      <td>21424.0</td>\n",
       "      <td>6.0</td>\n",
       "      <td>2017.0</td>\n",
       "      <td>Fiction</td>\n",
       "      <td>Fiction</td>\n",
       "    </tr>\n",
       "  </tbody>\n",
       "</table>\n",
       "</div>"
      ],
      "text/plain": [
       "                                      Name              Author  User Rating  \\\n",
       "0            10-Day Green Smoothie Cleanse            JJ Smith          4.7   \n",
       "1                                      NaN                 NaN          NaN   \n",
       "2                        11/22/63: A Novel        Stephen King          4.6   \n",
       "3  12 Rules for Life: An Antidote to Chaos  Jordan B. Peterson          4.7   \n",
       "4                   1984 (Signet Classics)       George Orwell          4.7   \n",
       "\n",
       "   Reviews  Price    Year        Genre         Type  \n",
       "0  17350.0    8.0  2016.0  Non Fiction  Non Fiction  \n",
       "1      NaN    NaN     NaN          NaN          NaN  \n",
       "2   2052.0   22.0  2011.0      Fiction      Fiction  \n",
       "3  18979.0   15.0  2018.0  Non Fiction  Non Fiction  \n",
       "4  21424.0    6.0  2017.0      Fiction      Fiction  "
      ]
     },
     "execution_count": 10,
     "metadata": {},
     "output_type": "execute_result"
    }
   ],
   "source": [
    "# 7 display the first 5 rows\n",
    "df.head()"
   ]
  },
  {
   "cell_type": "code",
   "execution_count": 11,
   "id": "4db3560b",
   "metadata": {},
   "outputs": [
    {
     "name": "stdout",
     "output_type": "stream",
     "text": [
      "<class 'pandas.core.frame.DataFrame'>\n",
      "RangeIndex: 375 entries, 0 to 374\n",
      "Data columns (total 8 columns):\n",
      " #   Column       Non-Null Count  Dtype  \n",
      "---  ------       --------------  -----  \n",
      " 0   Name         347 non-null    object \n",
      " 1   Author       347 non-null    object \n",
      " 2   User Rating  347 non-null    float64\n",
      " 3   Reviews      347 non-null    float64\n",
      " 4   Price        347 non-null    float64\n",
      " 5   Year         347 non-null    float64\n",
      " 6   Genre        347 non-null    object \n",
      " 7   Type         347 non-null    object \n",
      "dtypes: float64(4), object(4)\n",
      "memory usage: 23.6+ KB\n"
     ]
    }
   ],
   "source": [
    "# 8 information of file\n",
    "df.info()"
   ]
  },
  {
   "cell_type": "code",
   "execution_count": 12,
   "id": "3d7d0ed7",
   "metadata": {},
   "outputs": [
    {
     "data": {
      "text/plain": [
       "(375, 8)"
      ]
     },
     "execution_count": 12,
     "metadata": {},
     "output_type": "execute_result"
    }
   ],
   "source": [
    "# 8 shape of file in terms of number of cloumns and rows\n",
    "df.shape"
   ]
  },
  {
   "cell_type": "markdown",
   "id": "f0a6fce9",
   "metadata": {},
   "source": [
    "# ----"
   ]
  },
  {
   "cell_type": "markdown",
   "id": "d33cbd83",
   "metadata": {},
   "source": [
    "# Coding Exercise Continuation 3.8"
   ]
  },
  {
   "cell_type": "markdown",
   "id": "bbf19b40",
   "metadata": {},
   "source": [
    "### Look at the total null values and decide whether to drop them or not"
   ]
  },
  {
   "cell_type": "code",
   "execution_count": 25,
   "id": "50c19a9e",
   "metadata": {
    "scrolled": true
   },
   "outputs": [
    {
     "data": {
      "text/plain": [
       "(375, 8)"
      ]
     },
     "execution_count": 25,
     "metadata": {},
     "output_type": "execute_result"
    }
   ],
   "source": [
    "# we need to find out the shape of our data\n",
    "df.shape"
   ]
  },
  {
   "cell_type": "markdown",
   "id": "0cfb7459",
   "metadata": {},
   "source": [
    "We have 375 data entry in our dataframe"
   ]
  },
  {
   "cell_type": "code",
   "execution_count": 27,
   "id": "59c55718",
   "metadata": {
    "scrolled": true
   },
   "outputs": [
    {
     "data": {
      "text/plain": [
       "Name           28\n",
       "Author         28\n",
       "User Rating    28\n",
       "Reviews        28\n",
       "Price          28\n",
       "Year           28\n",
       "Genre          28\n",
       "Type           28\n",
       "dtype: int64"
      ]
     },
     "execution_count": 27,
     "metadata": {},
     "output_type": "execute_result"
    }
   ],
   "source": [
    "# we need to find how many null values arethre in our dataframe\n",
    "df.isnull().sum()"
   ]
  },
  {
   "cell_type": "markdown",
   "id": "19b00591",
   "metadata": {},
   "source": [
    "Using .isnull method, I found out that there is 28 null values in our dataframe"
   ]
  },
  {
   "cell_type": "code",
   "execution_count": 28,
   "id": "7ac719f1",
   "metadata": {},
   "outputs": [
    {
     "data": {
      "text/html": [
       "<div>\n",
       "<style scoped>\n",
       "    .dataframe tbody tr th:only-of-type {\n",
       "        vertical-align: middle;\n",
       "    }\n",
       "\n",
       "    .dataframe tbody tr th {\n",
       "        vertical-align: top;\n",
       "    }\n",
       "\n",
       "    .dataframe thead th {\n",
       "        text-align: right;\n",
       "    }\n",
       "</style>\n",
       "<table border=\"1\" class=\"dataframe\">\n",
       "  <thead>\n",
       "    <tr style=\"text-align: right;\">\n",
       "      <th></th>\n",
       "      <th>User Rating</th>\n",
       "      <th>Reviews</th>\n",
       "      <th>Price</th>\n",
       "      <th>Year</th>\n",
       "    </tr>\n",
       "  </thead>\n",
       "  <tbody>\n",
       "    <tr>\n",
       "      <th>count</th>\n",
       "      <td>347.000000</td>\n",
       "      <td>347.000000</td>\n",
       "      <td>347.000000</td>\n",
       "      <td>347.000000</td>\n",
       "    </tr>\n",
       "    <tr>\n",
       "      <th>mean</th>\n",
       "      <td>4.607493</td>\n",
       "      <td>9709.674352</td>\n",
       "      <td>13.095101</td>\n",
       "      <td>2013.786744</td>\n",
       "    </tr>\n",
       "    <tr>\n",
       "      <th>std</th>\n",
       "      <td>0.227582</td>\n",
       "      <td>10831.206514</td>\n",
       "      <td>10.093187</td>\n",
       "      <td>3.360868</td>\n",
       "    </tr>\n",
       "    <tr>\n",
       "      <th>min</th>\n",
       "      <td>3.300000</td>\n",
       "      <td>37.000000</td>\n",
       "      <td>0.000000</td>\n",
       "      <td>2009.000000</td>\n",
       "    </tr>\n",
       "    <tr>\n",
       "      <th>25%</th>\n",
       "      <td>4.500000</td>\n",
       "      <td>3384.500000</td>\n",
       "      <td>8.000000</td>\n",
       "      <td>2011.000000</td>\n",
       "    </tr>\n",
       "    <tr>\n",
       "      <th>50%</th>\n",
       "      <td>4.600000</td>\n",
       "      <td>6310.000000</td>\n",
       "      <td>12.000000</td>\n",
       "      <td>2014.000000</td>\n",
       "    </tr>\n",
       "    <tr>\n",
       "      <th>75%</th>\n",
       "      <td>4.800000</td>\n",
       "      <td>11259.500000</td>\n",
       "      <td>16.000000</td>\n",
       "      <td>2017.000000</td>\n",
       "    </tr>\n",
       "    <tr>\n",
       "      <th>max</th>\n",
       "      <td>4.900000</td>\n",
       "      <td>87841.000000</td>\n",
       "      <td>105.000000</td>\n",
       "      <td>2019.000000</td>\n",
       "    </tr>\n",
       "  </tbody>\n",
       "</table>\n",
       "</div>"
      ],
      "text/plain": [
       "       User Rating       Reviews       Price         Year\n",
       "count   347.000000    347.000000  347.000000   347.000000\n",
       "mean      4.607493   9709.674352   13.095101  2013.786744\n",
       "std       0.227582  10831.206514   10.093187     3.360868\n",
       "min       3.300000     37.000000    0.000000  2009.000000\n",
       "25%       4.500000   3384.500000    8.000000  2011.000000\n",
       "50%       4.600000   6310.000000   12.000000  2014.000000\n",
       "75%       4.800000  11259.500000   16.000000  2017.000000\n",
       "max       4.900000  87841.000000  105.000000  2019.000000"
      ]
     },
     "execution_count": 28,
     "metadata": {},
     "output_type": "execute_result"
    }
   ],
   "source": [
    "# findout out the null values if it correlates with our counted data\n",
    "df.describe()"
   ]
  },
  {
   "cell_type": "markdown",
   "id": "e8bf7f24",
   "metadata": {},
   "source": [
    "In our count, we only have 347 of 375 data entry, which the 28 null values describe by  .isnull method is relevant."
   ]
  },
  {
   "cell_type": "code",
   "execution_count": 29,
   "id": "3ae6819f",
   "metadata": {},
   "outputs": [
    {
     "data": {
      "text/plain": [
       "Name           0\n",
       "Author         0\n",
       "User Rating    0\n",
       "Reviews        0\n",
       "Price          0\n",
       "Year           0\n",
       "Genre          0\n",
       "Type           0\n",
       "dtype: int64"
      ]
     },
     "execution_count": 29,
     "metadata": {},
     "output_type": "execute_result"
    }
   ],
   "source": [
    "# dropping the null values for a cleaner data\n",
    "df = df.dropna()  # remove the null values in dataframe\n",
    "df.isnull().sum()  # check if theres still null values"
   ]
  },
  {
   "cell_type": "markdown",
   "id": "194a8b97",
   "metadata": {},
   "source": [
    "we removed the data which is null values and therefore achieve 0 values"
   ]
  },
  {
   "cell_type": "markdown",
   "id": "13fc402c",
   "metadata": {},
   "source": [
    "### Find the basic info and th efirst five rows to see my cleaned dataframe"
   ]
  },
  {
   "cell_type": "code",
   "execution_count": 31,
   "id": "e2414808",
   "metadata": {},
   "outputs": [
    {
     "name": "stdout",
     "output_type": "stream",
     "text": [
      "<class 'pandas.core.frame.DataFrame'>\n",
      "Int64Index: 347 entries, 0 to 374\n",
      "Data columns (total 8 columns):\n",
      " #   Column       Non-Null Count  Dtype  \n",
      "---  ------       --------------  -----  \n",
      " 0   Name         347 non-null    object \n",
      " 1   Author       347 non-null    object \n",
      " 2   User Rating  347 non-null    float64\n",
      " 3   Reviews      347 non-null    float64\n",
      " 4   Price        347 non-null    float64\n",
      " 5   Year         347 non-null    float64\n",
      " 6   Genre        347 non-null    object \n",
      " 7   Type         347 non-null    object \n",
      "dtypes: float64(4), object(4)\n",
      "memory usage: 24.4+ KB\n"
     ]
    },
    {
     "data": {
      "text/html": [
       "<div>\n",
       "<style scoped>\n",
       "    .dataframe tbody tr th:only-of-type {\n",
       "        vertical-align: middle;\n",
       "    }\n",
       "\n",
       "    .dataframe tbody tr th {\n",
       "        vertical-align: top;\n",
       "    }\n",
       "\n",
       "    .dataframe thead th {\n",
       "        text-align: right;\n",
       "    }\n",
       "</style>\n",
       "<table border=\"1\" class=\"dataframe\">\n",
       "  <thead>\n",
       "    <tr style=\"text-align: right;\">\n",
       "      <th></th>\n",
       "      <th>Name</th>\n",
       "      <th>Author</th>\n",
       "      <th>User Rating</th>\n",
       "      <th>Reviews</th>\n",
       "      <th>Price</th>\n",
       "      <th>Year</th>\n",
       "      <th>Genre</th>\n",
       "      <th>Type</th>\n",
       "    </tr>\n",
       "  </thead>\n",
       "  <tbody>\n",
       "    <tr>\n",
       "      <th>0</th>\n",
       "      <td>10-Day Green Smoothie Cleanse</td>\n",
       "      <td>JJ Smith</td>\n",
       "      <td>4.7</td>\n",
       "      <td>17350.0</td>\n",
       "      <td>8.0</td>\n",
       "      <td>2016.0</td>\n",
       "      <td>Non Fiction</td>\n",
       "      <td>Non Fiction</td>\n",
       "    </tr>\n",
       "    <tr>\n",
       "      <th>2</th>\n",
       "      <td>11/22/63: A Novel</td>\n",
       "      <td>Stephen King</td>\n",
       "      <td>4.6</td>\n",
       "      <td>2052.0</td>\n",
       "      <td>22.0</td>\n",
       "      <td>2011.0</td>\n",
       "      <td>Fiction</td>\n",
       "      <td>Fiction</td>\n",
       "    </tr>\n",
       "    <tr>\n",
       "      <th>3</th>\n",
       "      <td>12 Rules for Life: An Antidote to Chaos</td>\n",
       "      <td>Jordan B. Peterson</td>\n",
       "      <td>4.7</td>\n",
       "      <td>18979.0</td>\n",
       "      <td>15.0</td>\n",
       "      <td>2018.0</td>\n",
       "      <td>Non Fiction</td>\n",
       "      <td>Non Fiction</td>\n",
       "    </tr>\n",
       "    <tr>\n",
       "      <th>4</th>\n",
       "      <td>1984 (Signet Classics)</td>\n",
       "      <td>George Orwell</td>\n",
       "      <td>4.7</td>\n",
       "      <td>21424.0</td>\n",
       "      <td>6.0</td>\n",
       "      <td>2017.0</td>\n",
       "      <td>Fiction</td>\n",
       "      <td>Fiction</td>\n",
       "    </tr>\n",
       "    <tr>\n",
       "      <th>5</th>\n",
       "      <td>5,000 Awesome Facts (About Everything!) (Natio...</td>\n",
       "      <td>National Geographic Kids</td>\n",
       "      <td>4.8</td>\n",
       "      <td>7665.0</td>\n",
       "      <td>12.0</td>\n",
       "      <td>2019.0</td>\n",
       "      <td>Non Fiction</td>\n",
       "      <td>Non Fiction</td>\n",
       "    </tr>\n",
       "  </tbody>\n",
       "</table>\n",
       "</div>"
      ],
      "text/plain": [
       "                                                Name  \\\n",
       "0                      10-Day Green Smoothie Cleanse   \n",
       "2                                  11/22/63: A Novel   \n",
       "3            12 Rules for Life: An Antidote to Chaos   \n",
       "4                             1984 (Signet Classics)   \n",
       "5  5,000 Awesome Facts (About Everything!) (Natio...   \n",
       "\n",
       "                     Author  User Rating  Reviews  Price    Year        Genre  \\\n",
       "0                  JJ Smith          4.7  17350.0    8.0  2016.0  Non Fiction   \n",
       "2              Stephen King          4.6   2052.0   22.0  2011.0      Fiction   \n",
       "3        Jordan B. Peterson          4.7  18979.0   15.0  2018.0  Non Fiction   \n",
       "4             George Orwell          4.7  21424.0    6.0  2017.0      Fiction   \n",
       "5  National Geographic Kids          4.8   7665.0   12.0  2019.0  Non Fiction   \n",
       "\n",
       "          Type  \n",
       "0  Non Fiction  \n",
       "2      Fiction  \n",
       "3  Non Fiction  \n",
       "4      Fiction  \n",
       "5  Non Fiction  "
      ]
     },
     "execution_count": 31,
     "metadata": {},
     "output_type": "execute_result"
    }
   ],
   "source": [
    "# information about my dataframe\n",
    "df.info() \n",
    "\n",
    "# display first 5 rows\n",
    "df.head()"
   ]
  },
  {
   "cell_type": "markdown",
   "id": "8f3325bf",
   "metadata": {},
   "source": [
    "### We can conclude that the data is cleaner now because of 345 entries where we dropped the null values for easier diagnostic and analysis of our data."
   ]
  },
  {
   "cell_type": "code",
   "execution_count": null,
   "id": "b984b134",
   "metadata": {},
   "outputs": [],
   "source": []
  }
 ],
 "metadata": {
  "kernelspec": {
   "display_name": "Python 3 (ipykernel)",
   "language": "python",
   "name": "python3"
  },
  "language_info": {
   "codemirror_mode": {
    "name": "ipython",
    "version": 3
   },
   "file_extension": ".py",
   "mimetype": "text/x-python",
   "name": "python",
   "nbconvert_exporter": "python",
   "pygments_lexer": "ipython3",
   "version": "3.9.12"
  }
 },
 "nbformat": 4,
 "nbformat_minor": 5
}
